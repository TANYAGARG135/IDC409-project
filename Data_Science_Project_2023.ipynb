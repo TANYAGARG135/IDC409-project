{
  "nbformat": 4,
  "nbformat_minor": 0,
  "metadata": {
    "colab": {
      "provenance": [],
      "authorship_tag": "ABX9TyOvgdZ+AZ/g0ydr/6vX2ujt",
      "include_colab_link": true
    },
    "kernelspec": {
      "name": "python3",
      "display_name": "Python 3"
    },
    "language_info": {
      "name": "python"
    }
  },
  "cells": [
    {
      "cell_type": "markdown",
      "metadata": {
        "id": "view-in-github",
        "colab_type": "text"
      },
      "source": [
        "<a href=\"https://colab.research.google.com/github/TANYAGARG135/IDC409-project/blob/main/Data_Science_Project_2023.ipynb\" target=\"_parent\"><img src=\"https://colab.research.google.com/assets/colab-badge.svg\" alt=\"Open In Colab\"/></a>"
      ]
    },
    {
      "cell_type": "code",
      "execution_count": 3,
      "metadata": {
        "colab": {
          "base_uri": "https://localhost:8080/"
        },
        "id": "BFay9sBJq6V6",
        "outputId": "a9895a0f-4c2a-436a-c92a-1560be24afbb"
      },
      "outputs": [
        {
          "output_type": "stream",
          "name": "stdout",
          "text": [
            "Drive already mounted at /content/drive; to attempt to forcibly remount, call drive.mount(\"/content/drive\", force_remount=True).\n"
          ]
        }
      ],
      "source": [
        "import numpy as np\n",
        "from google.colab import drive\n",
        "drive.mount('/content/drive')"
      ]
    },
    {
      "cell_type": "code",
      "source": [
        "A=np.load('/content/drive/MyDrive/sources/olivetti_faces.npy')\n",
        "B=np.load('/content/drive/MyDrive/sources/olivetti_faces_target.npy')"
      ],
      "metadata": {
        "id": "PCvqLinCrm5I"
      },
      "execution_count": 4,
      "outputs": []
    },
    {
      "cell_type": "code",
      "source": [
        "X =  np.resize(A,(400,64,64,1))\n",
        "Y=np.eye(40)[B]"
      ],
      "metadata": {
        "id": "nSQeTlJCscKP"
      },
      "execution_count": 18,
      "outputs": []
    },
    {
      "cell_type": "code",
      "source": [
        "from keras.models import Sequential\n",
        "from keras.layers import Conv2D, MaxPooling2D, Flatten, Dense\n",
        "\n",
        "model = Sequential()\n",
        "model.add(Conv2D(32, (3, 3), activation='relu', input_shape=(64, 64, 1)))\n",
        "model.add(MaxPooling2D((2, 2)))\n",
        "model.add(Conv2D(64, (3, 3), activation='relu'))\n",
        "model.add(MaxPooling2D((2, 2)))\n",
        "model.add(Flatten())\n",
        "model.add(Dense(128, activation='relu'))\n",
        "model.add(Dense(40, activation='softmax'))"
      ],
      "metadata": {
        "id": "CzMpTBkBucLh"
      },
      "execution_count": 31,
      "outputs": []
    },
    {
      "cell_type": "code",
      "source": [
        "from sklearn.model_selection import train_test_split\n",
        "\n",
        "# Split the data into training and testing sets\n",
        "X_train, X_test, Y_train, Y_test = train_test_split(X, Y, test_size=0.25, random_state=42)\n"
      ],
      "metadata": {
        "id": "jFx96bxDwOFu"
      },
      "execution_count": 32,
      "outputs": []
    },
    {
      "cell_type": "code",
      "source": [
        "model.compile(optimizer='adam', loss='categorical_crossentropy', metrics=['accuracy'])\n",
        "model.fit(X_train, Y_train, validation_data=(X_test,Y_test), epochs=20, batch_size=10)"
      ],
      "metadata": {
        "colab": {
          "base_uri": "https://localhost:8080/"
        },
        "id": "tWTWq3gQvcBq",
        "outputId": "62725aef-cbcd-4720-e912-8947fcd3362d"
      },
      "execution_count": 34,
      "outputs": [
        {
          "output_type": "stream",
          "name": "stdout",
          "text": [
            "Epoch 1/20\n",
            "30/30 [==============================] - 3s 73ms/step - loss: 0.0954 - accuracy: 0.9767 - val_loss: 0.5116 - val_accuracy: 0.8600\n",
            "Epoch 2/20\n",
            "30/30 [==============================] - 2s 68ms/step - loss: 0.0306 - accuracy: 0.9967 - val_loss: 0.4617 - val_accuracy: 0.8900\n",
            "Epoch 3/20\n",
            "30/30 [==============================] - 2s 73ms/step - loss: 0.0096 - accuracy: 1.0000 - val_loss: 0.3697 - val_accuracy: 0.9000\n",
            "Epoch 4/20\n",
            "30/30 [==============================] - 3s 111ms/step - loss: 0.0026 - accuracy: 1.0000 - val_loss: 0.2858 - val_accuracy: 0.9300\n",
            "Epoch 5/20\n",
            "30/30 [==============================] - 3s 83ms/step - loss: 0.0013 - accuracy: 1.0000 - val_loss: 0.2704 - val_accuracy: 0.9400\n",
            "Epoch 6/20\n",
            "30/30 [==============================] - 2s 68ms/step - loss: 9.7947e-04 - accuracy: 1.0000 - val_loss: 0.2613 - val_accuracy: 0.9400\n",
            "Epoch 7/20\n",
            "30/30 [==============================] - 2s 68ms/step - loss: 7.9779e-04 - accuracy: 1.0000 - val_loss: 0.2456 - val_accuracy: 0.9400\n",
            "Epoch 8/20\n",
            "30/30 [==============================] - 2s 68ms/step - loss: 7.0338e-04 - accuracy: 1.0000 - val_loss: 0.2470 - val_accuracy: 0.9400\n",
            "Epoch 9/20\n",
            "30/30 [==============================] - 2s 67ms/step - loss: 6.2156e-04 - accuracy: 1.0000 - val_loss: 0.2448 - val_accuracy: 0.9400\n",
            "Epoch 10/20\n",
            "30/30 [==============================] - 3s 99ms/step - loss: 5.4975e-04 - accuracy: 1.0000 - val_loss: 0.2380 - val_accuracy: 0.9400\n",
            "Epoch 11/20\n",
            "30/30 [==============================] - 3s 99ms/step - loss: 4.9430e-04 - accuracy: 1.0000 - val_loss: 0.2394 - val_accuracy: 0.9400\n",
            "Epoch 12/20\n",
            "30/30 [==============================] - 2s 68ms/step - loss: 4.3555e-04 - accuracy: 1.0000 - val_loss: 0.2394 - val_accuracy: 0.9400\n",
            "Epoch 13/20\n",
            "30/30 [==============================] - 2s 67ms/step - loss: 4.0107e-04 - accuracy: 1.0000 - val_loss: 0.2316 - val_accuracy: 0.9400\n",
            "Epoch 14/20\n",
            "30/30 [==============================] - 2s 67ms/step - loss: 3.6674e-04 - accuracy: 1.0000 - val_loss: 0.2352 - val_accuracy: 0.9400\n",
            "Epoch 15/20\n",
            "30/30 [==============================] - 2s 68ms/step - loss: 3.3028e-04 - accuracy: 1.0000 - val_loss: 0.2328 - val_accuracy: 0.9400\n",
            "Epoch 16/20\n",
            "30/30 [==============================] - 3s 86ms/step - loss: 3.0459e-04 - accuracy: 1.0000 - val_loss: 0.2334 - val_accuracy: 0.9400\n",
            "Epoch 17/20\n",
            "30/30 [==============================] - 3s 112ms/step - loss: 2.8284e-04 - accuracy: 1.0000 - val_loss: 0.2312 - val_accuracy: 0.9400\n",
            "Epoch 18/20\n",
            "30/30 [==============================] - 2s 69ms/step - loss: 2.6081e-04 - accuracy: 1.0000 - val_loss: 0.2301 - val_accuracy: 0.9400\n",
            "Epoch 19/20\n",
            "30/30 [==============================] - 2s 68ms/step - loss: 2.4211e-04 - accuracy: 1.0000 - val_loss: 0.2258 - val_accuracy: 0.9500\n",
            "Epoch 20/20\n",
            "30/30 [==============================] - 2s 69ms/step - loss: 2.2777e-04 - accuracy: 1.0000 - val_loss: 0.2292 - val_accuracy: 0.9500\n"
          ]
        },
        {
          "output_type": "execute_result",
          "data": {
            "text/plain": [
              "<keras.src.callbacks.History at 0x7bc995919330>"
            ]
          },
          "metadata": {},
          "execution_count": 34
        }
      ]
    },
    {
      "cell_type": "code",
      "source": [
        "# Generating random subset of students who came to class\n",
        "indexes = [5, 44, 63, 234, 33,97,54, 333, 11, 53, 343, 300]\n",
        "subset = np.array([A[i] for i in indexes])\n",
        "Att = np.resize(subset,(subset.shape[0],64,64,1))\n",
        "Att_labl = np.array([B[i] for i in indexes])"
      ],
      "metadata": {
        "id": "JQ07MIUzyNQC"
      },
      "execution_count": 57,
      "outputs": []
    },
    {
      "cell_type": "code",
      "source": [
        "pred_Att= model.predict(Att)"
      ],
      "metadata": {
        "colab": {
          "base_uri": "https://localhost:8080/"
        },
        "id": "R3P26x-ozm3x",
        "outputId": "2d9063b7-e7fa-40cd-e591-ac10e25954c9"
      },
      "execution_count": 62,
      "outputs": [
        {
          "output_type": "stream",
          "name": "stdout",
          "text": [
            "1/1 [==============================] - 0s 34ms/step\n"
          ]
        }
      ]
    },
    {
      "cell_type": "code",
      "source": [
        "threshold = 0.4\n",
        "People_who_came_to_class=[]\n",
        "for i in pred_Att:\n",
        "  if np.max(i)>=threshold:\n",
        "    People_who_came_to_class.append(np.argmax(i))\n",
        "pred_Attd = np.array(People_who_came_to_class)\n",
        "\n",
        "pred_Attd"
      ],
      "metadata": {
        "colab": {
          "base_uri": "https://localhost:8080/"
        },
        "id": "1tt7Zra56IH0",
        "outputId": "107d7f76-ff78-4dc2-a210-938d8a80f3d0"
      },
      "execution_count": 67,
      "outputs": [
        {
          "output_type": "execute_result",
          "data": {
            "text/plain": [
              "array([ 0,  4,  6, 23,  3,  9,  5, 33,  1,  5, 34, 30])"
            ]
          },
          "metadata": {},
          "execution_count": 67
        }
      ]
    },
    {
      "cell_type": "code",
      "source": [
        "Att_labl"
      ],
      "metadata": {
        "colab": {
          "base_uri": "https://localhost:8080/"
        },
        "id": "eham-9d92noJ",
        "outputId": "62e65705-e753-403f-85df-90583cb1ce4f"
      },
      "execution_count": 60,
      "outputs": [
        {
          "output_type": "execute_result",
          "data": {
            "text/plain": [
              "array([ 0,  4,  6, 23,  3,  9,  5, 33,  1,  5, 34, 30], dtype=int32)"
            ]
          },
          "metadata": {},
          "execution_count": 60
        }
      ]
    },
    {
      "cell_type": "code",
      "source": [
        "import pandas as pd\n",
        "data = {\n",
        "    'Name-Label': np.unique(pred_Attd)\n",
        "}\n",
        "pd.DataFrame(data).to_csv('Attendance.csv', index=False)"
      ],
      "metadata": {
        "id": "8KAHbCps4MYm"
      },
      "execution_count": 68,
      "outputs": []
    }
  ]
}